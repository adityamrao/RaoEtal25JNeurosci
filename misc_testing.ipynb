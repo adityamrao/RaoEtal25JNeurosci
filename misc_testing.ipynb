{
 "cells": [
  {
   "cell_type": "code",
   "execution_count": 1,
   "id": "4a06341e-e705-4385-9ab7-cccba70764b9",
   "metadata": {},
   "outputs": [],
   "source": [
    "import json"
   ]
  },
  {
   "cell_type": "code",
   "execution_count": null,
   "id": "655e4857-e213-4e7d-9921-1c9f93c07210",
   "metadata": {},
   "outputs": [],
   "source": [
    "path_parameters = {'parameter'}"
   ]
  },
  {
   "cell_type": "code",
   "execution_count": null,
   "id": "ab4077b6-25ba-493d-8765-f0672411cdab",
   "metadata": {},
   "outputs": [],
   "source": [
    "from helper import get_pairs, get_localization, regionalize_electrodes, exclude_regionalizations, find_overlapping_pairs\n",
    "\n",
    "dfrow = pd.Series({'sub': 'R1001P', 'exp': 'FR1', 'sess': 0, 'loc': 0, 'mon': 0})\n",
    "pairs = get_pairs(dfrow)\n",
    "\n",
    "localization = get_localization(dfrow)\n",
    "regionalizations = regionalize_electrodes(pairs, localization)\n",
    "regionalizations = exclude_regionalizations(dfrow, pairs, regionalizations)\n",
    "print(len(pairs))\n",
    "print(len(regionalizations))\n",
    "\n",
    "overlapping_pairs = find_overlapping_pairs(pairs)\n",
    "len(overlapping_pairs)\n"
   ]
  },
  {
   "cell_type": "code",
   "execution_count": null,
   "id": "29e903c5-4c91-413a-823c-bf5b16c35756",
   "metadata": {},
   "outputs": [],
   "source": [
    "# from os.path import join\n",
    "# from helper import get_elsymx, load_events, get_dfrow\n",
    "# freqs = np.arange(3, 9)\n",
    "\n",
    "# from helper import root_dir\n",
    "\n",
    "# beh = 'en'\n",
    "\n",
    "# true_dfrow = get_dfrow(dfrow)\n",
    "# events = load_events(true_dfrow, beh)\n",
    "# save_dir = join(root_dir, beh)\n",
    "# ppcs = get_elsymx(true_dfrow, freqs, events)\n",
    "# ppcs"
   ]
  },
  {
   "cell_type": "code",
   "execution_count": null,
   "id": "7f047004-0807-4ccc-86b2-97c575e21010",
   "metadata": {},
   "outputs": [],
   "source": [
    "# import numpy as np\n",
    "# import pandas as pd\n",
    "# root_dir = '/scratch/rdehaan/retrieval_connectivity2'\n",
    "# from os.path import join\n",
    "# from helper import get_elsymx, load_events, get_dfrow, run_pipeline\n",
    "# freqs = np.arange(3, 9)\n",
    "\n",
    "# sess_list_df = pd.read_json(join(root_dir, 'sess_list_df.json')).query('include == True')\n",
    "# sess_list = sess_list_df[['sub', 'exp', 'sess', 'loc', 'mon']].values\n",
    "\n",
    "# display(sess_list[0])\n",
    "\n",
    "# def run_pipeline_en_en_all_rm(dfrow):\n",
    "#     dfrow = get_dfrow(dfrow)\n",
    "#     freqs = np.arange(3, 9)\n",
    "#     for beh in [#'en',\n",
    "#                 # 'en_all',\n",
    "#                 'rm'\n",
    "#                ]:\n",
    "#         events = load_events(dfrow, beh)\n",
    "#         save_dir = join(root_dir, beh)\n",
    "#         run_pipeline(dfrow, beh, events, save_dir)\n",
    "#         # print(events)\n",
    "#         # elsymx = get_elsymx(dfrow, freqs, events)\n",
    "\n",
    "\n",
    "# true_dfrow = sess_list[10]\n",
    "\n",
    "# run_pipeline_en_en_all_rm(true_dfrow)\n"
   ]
  },
  {
   "cell_type": "code",
   "execution_count": null,
   "id": "1d5edcf2-989a-4cd3-8ee0-7dd2e083d160",
   "metadata": {},
   "outputs": [],
   "source": []
  }
 ],
 "metadata": {
  "kernelspec": {
   "display_name": "workshop",
   "language": "python",
   "name": "workshop"
  },
  "language_info": {
   "codemirror_mode": {
    "name": "ipython",
    "version": 3
   },
   "file_extension": ".py",
   "mimetype": "text/x-python",
   "name": "python",
   "nbconvert_exporter": "python",
   "pygments_lexer": "ipython3",
   "version": "3.7.6"
  }
 },
 "nbformat": 4,
 "nbformat_minor": 5
}
